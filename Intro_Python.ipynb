{
  "nbformat": 4,
  "nbformat_minor": 0,
  "metadata": {
    "colab": {
      "name": "Intro-Python.ipynb",
      "provenance": [],
      "collapsed_sections": [],
      "authorship_tag": "ABX9TyNBp8Bf+7jCBfd1NCdklQZJ",
      "include_colab_link": true
    },
    "kernelspec": {
      "name": "python3",
      "display_name": "Python 3"
    },
    "language_info": {
      "name": "python"
    }
  },
  "cells": [
    {
      "cell_type": "markdown",
      "metadata": {
        "id": "view-in-github",
        "colab_type": "text"
      },
      "source": [
        "<a href=\"https://colab.research.google.com/github/coderanandmaurya/MCAML/blob/main/Intro_Python.ipynb\" target=\"_parent\"><img src=\"https://colab.research.google.com/assets/colab-badge.svg\" alt=\"Open In Colab\"/></a>"
      ]
    },
    {
      "cell_type": "markdown",
      "source": [
        "# Variable Declaration"
      ],
      "metadata": {
        "id": "6PlnjsxhUlvw"
      }
    },
    {
      "cell_type": "code",
      "execution_count": 127,
      "metadata": {
        "colab": {
          "base_uri": "https://localhost:8080/"
        },
        "id": "aS_nlkIqUWzX",
        "outputId": "d7c00fe1-620e-477d-890b-c624be4b7fd8"
      },
      "outputs": [
        {
          "output_type": "stream",
          "name": "stdout",
          "text": [
            "Value of var1 : 2\n",
            "<class 'int'>\n",
            "Value of var2 : 5.0\n",
            "<class 'float'>\n",
            "Value of var3 : True\n",
            "<class 'bool'>\n",
            "Value of var4 : Machine Learning\n",
            "<class 'str'>\n"
          ]
        }
      ],
      "source": [
        "var1 = 2 \n",
        "var2 = 5.0 \n",
        "var3 = True\n",
        "var4 = \"Machine Learning\" \n",
        "print(\"Value of var1 :\", var1) \n",
        "print(type(var1)) \n",
        "print(\"Value of var2 :\", var2) \n",
        "print(type(var2)) \n",
        "print(\"Value of var3 :\", var3) \n",
        "print(type(var3)) \n",
        "print(\"Value of var4 :\", var4) \n",
        "print(type(var4)) "
      ]
    },
    {
      "cell_type": "markdown",
      "source": [
        "# Conditional Statements"
      ],
      "metadata": {
        "id": "onfQdwjhVEng"
      }
    },
    {
      "cell_type": "code",
      "source": [
        "# Checking a condition if the variable value is more than 1 \n",
        "if var1 > 1: \n",
        " print( \"Bigger than 1\" ) "
      ],
      "metadata": {
        "colab": {
          "base_uri": "https://localhost:8080/"
        },
        "id": "lJ7j2t1XUvuQ",
        "outputId": "5ad24e13-7238-4aae-84c5-e1b4cfc2d172"
      },
      "execution_count": 128,
      "outputs": [
        {
          "output_type": "stream",
          "name": "stdout",
          "text": [
            "Bigger than 1\n"
          ]
        }
      ]
    },
    {
      "cell_type": "code",
      "source": [
        "x = 10 \n",
        "y = 12 \n",
        "# if x is greater than y \n",
        "if x > y: \n",
        " print (\"x > y\") \n",
        "# if x is lesser than y \n",
        "elif x < y: \n",
        " print (\"x < y\") \n",
        "else: \n",
        " print (\"x = y\") "
      ],
      "metadata": {
        "colab": {
          "base_uri": "https://localhost:8080/"
        },
        "id": "Rz8P26_4U3Bw",
        "outputId": "3578e715-f86e-4a11-e9e8-69c89a1bbc71"
      },
      "execution_count": 129,
      "outputs": [
        {
          "output_type": "stream",
          "name": "stdout",
          "text": [
            "x < y\n"
          ]
        }
      ]
    },
    {
      "cell_type": "code",
      "source": [
        "# Initialize \n",
        "x = 5 \n",
        "# Assign True if x is more than 10 or assign False using ternary operator\n",
        "isGreater = True if x > 10 else False"
      ],
      "metadata": {
        "id": "49PF1W8PVZ0P"
      },
      "execution_count": 130,
      "outputs": []
    },
    {
      "cell_type": "markdown",
      "source": [
        "# Generating Sequence Numbers\n"
      ],
      "metadata": {
        "id": "nHrVzD5RVam_"
      }
    },
    {
      "cell_type": "code",
      "source": [
        "#range : \n",
        "# Initializing the sequence of numbers starting from 1 \n",
        "# and ending (not including) with 6 \n",
        "numbers = range( 1, 6 ) \n",
        "numbers "
      ],
      "metadata": {
        "colab": {
          "base_uri": "https://localhost:8080/"
        },
        "id": "hLKP0D0aVgCX",
        "outputId": "c3dec63f-35f6-4fa7-f8f5-381d3b3ffb2b"
      },
      "execution_count": 131,
      "outputs": [
        {
          "output_type": "execute_result",
          "data": {
            "text/plain": [
              "range(1, 6)"
            ]
          },
          "metadata": {},
          "execution_count": 131
        }
      ]
    },
    {
      "cell_type": "markdown",
      "source": [
        "# Control Flow Statements"
      ],
      "metadata": {
        "id": "71N2_gVQVv-4"
      }
    },
    {
      "cell_type": "code",
      "source": [
        "# Iterate through the collection \n",
        "for i in numbers: \n",
        " print (i)"
      ],
      "metadata": {
        "colab": {
          "base_uri": "https://localhost:8080/"
        },
        "id": "pf1DX2bsVzRf",
        "outputId": "404ac63d-cc9c-4ca1-c88f-989398b55211"
      },
      "execution_count": 132,
      "outputs": [
        {
          "output_type": "stream",
          "name": "stdout",
          "text": [
            "1\n",
            "2\n",
            "3\n",
            "4\n",
            "5\n"
          ]
        }
      ]
    },
    {
      "cell_type": "code",
      "source": [
        "# Initialize the value of 1 \n",
        "i = 1 \n",
        "# check the value of i to check if the loop will be continued or not\n",
        "while i < 5: \n",
        " print(i) \n",
        " # Increment the value of i. \n",
        " i = i+1 \n",
        "# print after the value of i \n",
        "print('Done') "
      ],
      "metadata": {
        "colab": {
          "base_uri": "https://localhost:8080/"
        },
        "id": "NMFpN3qjV4PP",
        "outputId": "0549d063-a382-4dfe-814c-8fb6c2c79b51"
      },
      "execution_count": 133,
      "outputs": [
        {
          "output_type": "stream",
          "name": "stdout",
          "text": [
            "1\n",
            "2\n",
            "3\n",
            "4\n",
            "Done\n"
          ]
        }
      ]
    },
    {
      "cell_type": "markdown",
      "source": [
        "# Functions"
      ],
      "metadata": {
        "id": "YruT8V14WFwv"
      }
    },
    {
      "cell_type": "code",
      "source": [
        "def addElements( a, b ): \n",
        " return a + b "
      ],
      "metadata": {
        "id": "tfajuL7sWClu"
      },
      "execution_count": 134,
      "outputs": []
    },
    {
      "cell_type": "code",
      "source": [
        "result = addElements( 2, 3 ) \n",
        "result"
      ],
      "metadata": {
        "colab": {
          "base_uri": "https://localhost:8080/"
        },
        "id": "YGwJp7oYWSKP",
        "outputId": "6282ddd1-404e-48b4-c692-ff7dde013956"
      },
      "execution_count": 135,
      "outputs": [
        {
          "output_type": "execute_result",
          "data": {
            "text/plain": [
              "5"
            ]
          },
          "metadata": {},
          "execution_count": 135
        }
      ]
    },
    {
      "cell_type": "markdown",
      "source": [
        "# Working with Collections"
      ],
      "metadata": {
        "id": "1owenRhQWj0G"
      }
    },
    {
      "cell_type": "markdown",
      "source": [
        "## LIST"
      ],
      "metadata": {
        "id": "5WhHMmguWnpW"
      }
    },
    {
      "cell_type": "code",
      "source": [
        "## Create an empty list \n",
        "emptyList = [] "
      ],
      "metadata": {
        "id": "3KZTNco5Wk88"
      },
      "execution_count": 136,
      "outputs": []
    },
    {
      "cell_type": "code",
      "source": [
        "batsmen = ['Rohit', 'Dhawan', 'Kohli', 'Rahane', 'Rayudu', 'Dhoni'] "
      ],
      "metadata": {
        "id": "f1s0grSaWrJd"
      },
      "execution_count": 137,
      "outputs": []
    },
    {
      "cell_type": "code",
      "source": [
        "#Indexing\n",
        "print(batsmen[0])\n",
        "print(batsmen[-1])\n",
        "#slicing\n",
        "print(batsmen[0:3])\n",
        "#length\n",
        "print(len(batsmen))\n",
        "#Reverse\n",
        "batsmen.reverse()"
      ],
      "metadata": {
        "colab": {
          "base_uri": "https://localhost:8080/"
        },
        "id": "BI6czGR5WvYt",
        "outputId": "93878c0b-0ea8-4e4e-c903-fe4144610c91"
      },
      "execution_count": 138,
      "outputs": [
        {
          "output_type": "stream",
          "name": "stdout",
          "text": [
            "Rohit\n",
            "Dhoni\n",
            "['Rohit', 'Dhawan', 'Kohli']\n",
            "6\n"
          ]
        }
      ]
    },
    {
      "cell_type": "code",
      "source": [
        "bowlers = ['Bumrah', 'Shami', 'Bhuvi', 'Kuldeep', 'Chahal'] "
      ],
      "metadata": {
        "id": "g1xOouPpW5CO"
      },
      "execution_count": 139,
      "outputs": []
    },
    {
      "cell_type": "code",
      "source": [
        "'Bumrah' in bowlers "
      ],
      "metadata": {
        "colab": {
          "base_uri": "https://localhost:8080/"
        },
        "id": "uCF3u4vrXlh-",
        "outputId": "a82a2099-3d16-4c4f-c4a1-e2008785636a"
      },
      "execution_count": 140,
      "outputs": [
        {
          "output_type": "execute_result",
          "data": {
            "text/plain": [
              "True"
            ]
          },
          "metadata": {},
          "execution_count": 140
        }
      ]
    },
    {
      "cell_type": "code",
      "source": [
        "all_players = batsmen + bowlers \n",
        "all_players"
      ],
      "metadata": {
        "colab": {
          "base_uri": "https://localhost:8080/"
        },
        "id": "e7FkWeIqXiEe",
        "outputId": "7ead1dab-ae34-40cb-f56b-9dc495dc9d4e"
      },
      "execution_count": 141,
      "outputs": [
        {
          "output_type": "execute_result",
          "data": {
            "text/plain": [
              "['Dhoni',\n",
              " 'Rayudu',\n",
              " 'Rahane',\n",
              " 'Kohli',\n",
              " 'Dhawan',\n",
              " 'Rohit',\n",
              " 'Bumrah',\n",
              " 'Shami',\n",
              " 'Bhuvi',\n",
              " 'Kuldeep',\n",
              " 'Chahal']"
            ]
          },
          "metadata": {},
          "execution_count": 141
        }
      ]
    },
    {
      "cell_type": "markdown",
      "source": [
        "# Tuple"
      ],
      "metadata": {
        "id": "V4PBIsvWZvgo"
      }
    },
    {
      "cell_type": "code",
      "source": [
        "odiDebut = ( 'Kohli', 2008 ) "
      ],
      "metadata": {
        "id": "XTurZOMqZN6f"
      },
      "execution_count": 142,
      "outputs": []
    },
    {
      "cell_type": "code",
      "source": [
        "odiDebut "
      ],
      "metadata": {
        "colab": {
          "base_uri": "https://localhost:8080/"
        },
        "id": "yorGGqqjX2SN",
        "outputId": "1f23d009-114b-49c9-f446-6b5af72558b4"
      },
      "execution_count": 143,
      "outputs": [
        {
          "output_type": "execute_result",
          "data": {
            "text/plain": [
              "('Kohli', 2008)"
            ]
          },
          "metadata": {},
          "execution_count": 143
        }
      ]
    },
    {
      "cell_type": "code",
      "source": [
        "odiDebut[0] "
      ],
      "metadata": {
        "colab": {
          "base_uri": "https://localhost:8080/",
          "height": 35
        },
        "id": "ZN8kok5MZ-12",
        "outputId": "c9fa3ee3-43b3-4697-da72-3e59425b9150"
      },
      "execution_count": 144,
      "outputs": [
        {
          "output_type": "execute_result",
          "data": {
            "application/vnd.google.colaboratory.intrinsic+json": {
              "type": "string"
            },
            "text/plain": [
              "'Kohli'"
            ]
          },
          "metadata": {},
          "execution_count": 144
        }
      ]
    },
    {
      "cell_type": "code",
      "source": [
        "#tup1[1] = 2009 "
      ],
      "metadata": {
        "id": "IEq3xh4_Z_CP"
      },
      "execution_count": 145,
      "outputs": []
    },
    {
      "cell_type": "code",
      "source": [
        "all_players=(*all_players,)\n",
        "print(type(all_players))"
      ],
      "metadata": {
        "colab": {
          "base_uri": "https://localhost:8080/"
        },
        "id": "oQP_yhCSaCsd",
        "outputId": "ff7f10bf-6ce2-4cce-84ac-73e132763e37"
      },
      "execution_count": 146,
      "outputs": [
        {
          "output_type": "stream",
          "name": "stdout",
          "text": [
            "<class 'tuple'>\n"
          ]
        }
      ]
    },
    {
      "cell_type": "markdown",
      "source": [
        "## SET"
      ],
      "metadata": {
        "id": "Cz-QKswQa58_"
      }
    },
    {
      "cell_type": "code",
      "source": [
        "set_of_numbr=[1,2,3,4,5,6,7,8]\n",
        "print(set)"
      ],
      "metadata": {
        "colab": {
          "base_uri": "https://localhost:8080/"
        },
        "id": "5Bnm7cQfaSvs",
        "outputId": "249bf585-82e3-4ac6-fed1-512209b989d1"
      },
      "execution_count": 147,
      "outputs": [
        {
          "output_type": "stream",
          "name": "stdout",
          "text": [
            "<class 'set'>\n"
          ]
        }
      ]
    },
    {
      "cell_type": "code",
      "source": [
        "wc2011 = {\"Dhoni\", \"Sehwag\", \"Tendulkar\", \"Gambhir\", \"Kohli\", \"Raina\", \"Yuvraj\", \"Yusuf\"} \n",
        "wc2015 = {\"Dhoni\", \"Dhawan\", \"Rohit\", \"Rahane\", \"Kohli\", \"Raina\", \"Rayudu\", \"Jadeja\"} "
      ],
      "metadata": {
        "id": "Rv1DnHQFbDld"
      },
      "execution_count": 148,
      "outputs": []
    },
    {
      "cell_type": "code",
      "source": [
        "wc2011.union( wc2015 )"
      ],
      "metadata": {
        "colab": {
          "base_uri": "https://localhost:8080/"
        },
        "id": "NTZF8FBdbclN",
        "outputId": "411842b0-83b7-41a1-b756-e63a7e97cfbc"
      },
      "execution_count": 149,
      "outputs": [
        {
          "output_type": "execute_result",
          "data": {
            "text/plain": [
              "{'Dhawan',\n",
              " 'Dhoni',\n",
              " 'Gambhir',\n",
              " 'Jadeja',\n",
              " 'Kohli',\n",
              " 'Rahane',\n",
              " 'Raina',\n",
              " 'Rayudu',\n",
              " 'Rohit',\n",
              " 'Sehwag',\n",
              " 'Tendulkar',\n",
              " 'Yusuf',\n",
              " 'Yuvraj'}"
            ]
          },
          "metadata": {},
          "execution_count": 149
        }
      ]
    },
    {
      "cell_type": "code",
      "source": [
        "wc2011.intersection( wc2015 ) "
      ],
      "metadata": {
        "colab": {
          "base_uri": "https://localhost:8080/"
        },
        "id": "we3YQkfMbizc",
        "outputId": "c8a6be40-707e-4518-b327-7fa8fb1a0734"
      },
      "execution_count": 150,
      "outputs": [
        {
          "output_type": "execute_result",
          "data": {
            "text/plain": [
              "{'Dhoni', 'Kohli', 'Raina'}"
            ]
          },
          "metadata": {},
          "execution_count": 150
        }
      ]
    },
    {
      "cell_type": "code",
      "source": [
        "wc2015.difference( wc2011 ) "
      ],
      "metadata": {
        "colab": {
          "base_uri": "https://localhost:8080/"
        },
        "id": "HOMUBRCublxM",
        "outputId": "abec7bde-4c72-4982-d697-2a3b3ee8fd92"
      },
      "execution_count": 151,
      "outputs": [
        {
          "output_type": "execute_result",
          "data": {
            "text/plain": [
              "{'Dhawan', 'Jadeja', 'Rahane', 'Rayudu', 'Rohit'}"
            ]
          },
          "metadata": {},
          "execution_count": 151
        }
      ]
    },
    {
      "cell_type": "markdown",
      "source": [
        "# Dictionary"
      ],
      "metadata": {
        "id": "jKIWpttbbw8v"
      }
    },
    {
      "cell_type": "code",
      "source": [
        "wcWinners = { 1975: \"West Indies\", \n",
        "1979: \"West Indies\", \n",
        "1983: \"India\", \n",
        "1987: \"Australia\", \n",
        "1991: \"Pakistan\", \n",
        "1996: \"Srilanka\", \n",
        "1999: \"Australia\", \n",
        "2003: \"Australia\", \n",
        "2007: \"Australia\", \n",
        "2011: \"India\"} "
      ],
      "metadata": {
        "id": "q0VECL9vborc"
      },
      "execution_count": 152,
      "outputs": []
    },
    {
      "cell_type": "code",
      "source": [
        "wcWinners[1983] "
      ],
      "metadata": {
        "colab": {
          "base_uri": "https://localhost:8080/",
          "height": 35
        },
        "id": "ZrwwDmL7byGc",
        "outputId": "fd0a9ca3-646d-4679-fc59-b02aaa134f43"
      },
      "execution_count": 153,
      "outputs": [
        {
          "output_type": "execute_result",
          "data": {
            "application/vnd.google.colaboratory.intrinsic+json": {
              "type": "string"
            },
            "text/plain": [
              "'India'"
            ]
          },
          "metadata": {},
          "execution_count": 153
        }
      ]
    },
    {
      "cell_type": "code",
      "source": [
        "wcWinners.values() "
      ],
      "metadata": {
        "colab": {
          "base_uri": "https://localhost:8080/"
        },
        "id": "LDzGCe50b1yt",
        "outputId": "d0d74eca-8f41-4617-ec5b-15ac4fe2087c"
      },
      "execution_count": 154,
      "outputs": [
        {
          "output_type": "execute_result",
          "data": {
            "text/plain": [
              "dict_values(['West Indies', 'West Indies', 'India', 'Australia', 'Pakistan', 'Srilanka', 'Australia', 'Australia', 'Australia', 'India'])"
            ]
          },
          "metadata": {},
          "execution_count": 154
        }
      ]
    },
    {
      "cell_type": "code",
      "source": [
        "set(wcWinners.values()) "
      ],
      "metadata": {
        "colab": {
          "base_uri": "https://localhost:8080/"
        },
        "id": "3QKN_INfb6gd",
        "outputId": "a6e4c6d1-413a-49e5-ff4e-821cca11c412"
      },
      "execution_count": 155,
      "outputs": [
        {
          "output_type": "execute_result",
          "data": {
            "text/plain": [
              "{'Australia', 'India', 'Pakistan', 'Srilanka', 'West Indies'}"
            ]
          },
          "metadata": {},
          "execution_count": 155
        }
      ]
    },
    {
      "cell_type": "code",
      "source": [
        "wcWinners[2015] = 'India' \n",
        "wcWinners[2015]"
      ],
      "metadata": {
        "colab": {
          "base_uri": "https://localhost:8080/",
          "height": 35
        },
        "id": "lNmz4Gvrb66s",
        "outputId": "bb3a8838-0d81-44ad-f3f5-685f371f0c69"
      },
      "execution_count": 156,
      "outputs": [
        {
          "output_type": "execute_result",
          "data": {
            "application/vnd.google.colaboratory.intrinsic+json": {
              "type": "string"
            },
            "text/plain": [
              "'India'"
            ]
          },
          "metadata": {},
          "execution_count": 156
        }
      ]
    },
    {
      "cell_type": "markdown",
      "source": [
        "# Dealing with Strings"
      ],
      "metadata": {
        "id": "JHwSDS1kcQ4M"
      }
    },
    {
      "cell_type": "code",
      "source": [
        "string0 = 'python' \n",
        "string1 = \"machine learning\" "
      ],
      "metadata": {
        "id": "A6DYpusGcAVt"
      },
      "execution_count": 157,
      "outputs": []
    },
    {
      "cell_type": "code",
      "source": [
        "string2 = \"\"\"This is a \n",
        "multiline string\"\"\" "
      ],
      "metadata": {
        "id": "Vbj7ncvYcVqs"
      },
      "execution_count": 158,
      "outputs": []
    },
    {
      "cell_type": "code",
      "source": [
        "# Converting to upper case \n",
        "string0.upper() \n",
        "# Similarly string.lower() can be used to convert to lower case.\n",
        "# string0.lower()\n",
        "tokens = string1.split(' ') \n",
        "tokens "
      ],
      "metadata": {
        "colab": {
          "base_uri": "https://localhost:8080/"
        },
        "id": "BY9ho5NXcaQM",
        "outputId": "e436c79f-658b-4b74-d30a-fab169366f6f"
      },
      "execution_count": 159,
      "outputs": [
        {
          "output_type": "execute_result",
          "data": {
            "text/plain": [
              "['machine', 'learning']"
            ]
          },
          "metadata": {},
          "execution_count": 159
        }
      ]
    },
    {
      "cell_type": "markdown",
      "source": [
        "# Functional Programming\n"
      ],
      "metadata": {
        "id": "LeIfAlyHcs72"
      }
    },
    {
      "cell_type": "markdown",
      "source": [
        "Map\n"
      ],
      "metadata": {
        "id": "ucvlOdDCdIpe"
      }
    },
    {
      "cell_type": "code",
      "source": [
        "intList = [1,2,3,4,5,6,7,8,9] \n",
        "# Create an empty list. \n",
        "squareList = [] \n",
        "# Loop through the intList, square every item and append to result list squareLi\n",
        "for i in intList :\n",
        "  j=i*i\n",
        "  squareList.append(j)\n",
        "print(squareList)"
      ],
      "metadata": {
        "colab": {
          "base_uri": "https://localhost:8080/"
        },
        "id": "pS6moh6adPp8",
        "outputId": "0ac9ce68-05d0-487f-fdb1-b27fccf2db87"
      },
      "execution_count": 160,
      "outputs": [
        {
          "output_type": "stream",
          "name": "stdout",
          "text": [
            "[1, 4, 9, 16, 25, 36, 49, 64, 81]\n"
          ]
        }
      ]
    },
    {
      "cell_type": "code",
      "source": [
        "def square_me( x ): \n",
        " return x * x "
      ],
      "metadata": {
        "id": "MUhVZenidS9c"
      },
      "execution_count": 161,
      "outputs": []
    },
    {
      "cell_type": "code",
      "source": [
        "squareList = map( square_me, intList) \n",
        "list(squareList)"
      ],
      "metadata": {
        "colab": {
          "base_uri": "https://localhost:8080/"
        },
        "id": "Xeczg7LneWAM",
        "outputId": "d0aad38f-e842-48ce-fb85-028fe6c3d544"
      },
      "execution_count": 162,
      "outputs": [
        {
          "output_type": "execute_result",
          "data": {
            "text/plain": [
              "[1, 4, 9, 16, 25, 36, 49, 64, 81]"
            ]
          },
          "metadata": {},
          "execution_count": 162
        }
      ]
    },
    {
      "cell_type": "code",
      "source": [
        "squareList = map(lambda x: x*x, intList) \n",
        "list(squareList) \n"
      ],
      "metadata": {
        "colab": {
          "base_uri": "https://localhost:8080/"
        },
        "id": "qicJDWQKeZCO",
        "outputId": "6d9302e6-6197-4a0c-abb8-3e6e154354bf"
      },
      "execution_count": 163,
      "outputs": [
        {
          "output_type": "execute_result",
          "data": {
            "text/plain": [
              "[1, 4, 9, 16, 25, 36, 49, 64, 81]"
            ]
          },
          "metadata": {},
          "execution_count": 163
        }
      ]
    },
    {
      "cell_type": "markdown",
      "source": [
        "# Filter\n"
      ],
      "metadata": {
        "id": "nP2UTjQ-ek5N"
      }
    },
    {
      "cell_type": "code",
      "source": [
        "evenInts = filter( lambda x : x % 2 == 0, intList ) \n",
        "list(evenInts)"
      ],
      "metadata": {
        "colab": {
          "base_uri": "https://localhost:8080/"
        },
        "id": "RXdviF2AeZE8",
        "outputId": "2f35c8bf-73af-4284-cdc1-27b6800d9540"
      },
      "execution_count": 164,
      "outputs": [
        {
          "output_type": "execute_result",
          "data": {
            "text/plain": [
              "[2, 4, 6, 8]"
            ]
          },
          "metadata": {},
          "execution_count": 164
        }
      ]
    },
    {
      "cell_type": "markdown",
      "source": [
        "# Modules and Packages"
      ],
      "metadata": {
        "id": "iz5jtzC6etld"
      }
    },
    {
      "cell_type": "code",
      "source": [
        "import math\n",
        "## Taking square root of a value \n",
        "math.sqrt(3)"
      ],
      "metadata": {
        "colab": {
          "base_uri": "https://localhost:8080/"
        },
        "id": "5Ppo2Tu0eZHZ",
        "outputId": "9ee5a77c-2f77-48b8-e226-bdd062cefa02"
      },
      "execution_count": 165,
      "outputs": [
        {
          "output_type": "execute_result",
          "data": {
            "text/plain": [
              "1.7320508075688772"
            ]
          },
          "metadata": {},
          "execution_count": 165
        }
      ]
    },
    {
      "cell_type": "code",
      "source": [
        "from random import sample \n",
        "sample(range(0,13),3)"
      ],
      "metadata": {
        "colab": {
          "base_uri": "https://localhost:8080/"
        },
        "id": "r0n5_O_Keyes",
        "outputId": "62061e6e-6bb0-4007-a173-caa577dadcf9"
      },
      "execution_count": 166,
      "outputs": [
        {
          "output_type": "execute_result",
          "data": {
            "text/plain": [
              "[2, 3, 1]"
            ]
          },
          "metadata": {},
          "execution_count": 166
        }
      ]
    },
    {
      "cell_type": "code",
      "source": [
        "import random \n",
        "randomList = random.sample( range(0, 100), 20) \n",
        "randomList "
      ],
      "metadata": {
        "colab": {
          "base_uri": "https://localhost:8080/"
        },
        "id": "JFRHVHgpe7Jb",
        "outputId": "74bb1f67-b310-473b-eb88-5c62ec29c026"
      },
      "execution_count": 167,
      "outputs": [
        {
          "output_type": "execute_result",
          "data": {
            "text/plain": [
              "[81, 0, 97, 33, 6, 8, 49, 5, 16, 71, 20, 50, 64, 2, 37, 11, 9, 58, 69, 89]"
            ]
          },
          "metadata": {},
          "execution_count": 167
        }
      ]
    },
    {
      "cell_type": "code",
      "source": [
        "from statistics import mean, median \n",
        "def getMeanAndMedian( listNum ): \n",
        " return mean(listNum), median(listNum) "
      ],
      "metadata": {
        "id": "wroXqoPSe-3b"
      },
      "execution_count": 168,
      "outputs": []
    },
    {
      "cell_type": "code",
      "source": [
        "mean, median = getMeanAndMedian( randomList ) \n",
        "print( \"Mean: \", mean, \" Median: \", median) "
      ],
      "metadata": {
        "colab": {
          "base_uri": "https://localhost:8080/"
        },
        "id": "jy_M5gTafDEr",
        "outputId": "2b619a79-93ca-4fec-9e2d-5be39356de23"
      },
      "execution_count": 169,
      "outputs": [
        {
          "output_type": "stream",
          "name": "stdout",
          "text": [
            "Mean:  38.75  Median:  35.0\n"
          ]
        }
      ]
    }
  ]
}